{
  "nbformat": 4,
  "nbformat_minor": 0,
  "metadata": {
    "colab": {
      "provenance": []
    },
    "kernelspec": {
      "name": "python3",
      "display_name": "Python 3"
    },
    "language_info": {
      "name": "python"
    }
  },
  "cells": [
    {
      "cell_type": "markdown",
      "source": [
        "# 1. What is a Decision Tree?\n",
        "# A supervised machine learning algorithm used for classification and regression.\n",
        "# It splits the data into branches based on feature thresholds, leading to decisions.\n",
        "\n",
        "# 2. How does it work?\n",
        "# At each node, it picks the best feature to split using an impurity metric (like Gini or Entropy).\n",
        "# The process repeats recursively until stopping criteria are met.\n",
        "\n",
        "# 3. Gini Impurity Formula:\n",
        "# Gini(D) = 1 - sum(p_i^2) for each class i\n",
        "\n",
        "# 4. Entropy Formula:\n",
        "# Entropy(D) = -sum(p_i * log2(p_i)) for each class i\n",
        "\n",
        "# 5. Information Gain:\n",
        "# IG(D, A) = Entropy(D) - sum (|D_v| / |D|) * Entropy(D_v) for values v of attribute A\n",
        "\n",
        "# 6. Gini vs Entropy:\n",
        "# Gini is simpler and faster; Entropy may yield more balanced splits.\n",
        "\n",
        "# 7. Mathematical View:\n",
        "# Decision Trees use a greedy approach to minimize impurity or maximize Information Gain.\n",
        "\n",
        "# 8. Pre-Pruning:\n",
        "# Stop tree early using parameters like max_depth, min_samples_split.\n",
        "\n",
        "# 9. Post-Pruning:\n",
        "# Grow full tree, then prune unnecessary nodes using validation or cost-complexity pruning.\n",
        "\n",
        "# 10. Pre-Pruning vs Post-Pruning:\n",
        "# Pre: Happens during training. Post: Happens after full tree is built.\n",
        "\n",
        "# 11. Decision Tree Regressor:\n",
        "# Predicts continuous outputs, minimizes MSE at splits.\n",
        "\n",
        "# 12. Advantages:\n",
        "# Interpretable, works with mixed feature types, no scaling needed.\n",
        "\n",
        "# 13. Disadvantages:\n",
        "# Prone to overfitting, unstable with small changes in data.\n",
        "\n",
        "# 14. Missing Values Handling:\n",
        "# Can use surrogate splits or imputation.\n",
        "\n",
        "# 15. Categorical Features:\n",
        "# One-hot encode or use split-by-category logic.\n",
        "\n",
        "# 16. Applications:\n",
        "# Loan approval, fraud detection, medical diagnosis, customer churn, etc.\n"
      ],
      "metadata": {
        "id": "0aJywpngwPEq"
      }
    },
    {
      "cell_type": "code",
      "source": [
        "from sklearn.datasets import load_iris\n",
        "from sklearn.tree import DecisionTreeClassifier\n",
        "from sklearn.model_selection import train_test_split\n",
        "from sklearn.metrics import accuracy_score\n",
        "\n",
        "iris = load_iris()\n",
        "X_train, X_test, y_train, y_test = train_test_split(iris.data, iris.target, test_size=0.2)\n",
        "\n",
        "model = DecisionTreeClassifier()\n",
        "model.fit(X_train, y_train)\n",
        "pred = model.predict(X_test)\n",
        "\n",
        "print(\"Accuracy:\", accuracy_score(y_test, pred))\n"
      ],
      "metadata": {
        "colab": {
          "base_uri": "https://localhost:8080/"
        },
        "id": "O4Oyvv_1wUDa",
        "outputId": "f73fd7d1-0825-45c3-8a39-5cb7a4b3823a"
      },
      "execution_count": 2,
      "outputs": [
        {
          "output_type": "stream",
          "name": "stdout",
          "text": [
            "Accuracy: 1.0\n"
          ]
        }
      ]
    },
    {
      "cell_type": "code",
      "source": [
        "model = DecisionTreeClassifier(criterion='gini')\n",
        "model.fit(X_train, y_train)\n",
        "\n",
        "print(\"Feature Importances:\", model.feature_importances_)\n"
      ],
      "metadata": {
        "colab": {
          "base_uri": "https://localhost:8080/"
        },
        "id": "93KJK3OXwca7",
        "outputId": "6037f871-6e94-422f-cee3-ff13e9cc0fc0"
      },
      "execution_count": 3,
      "outputs": [
        {
          "output_type": "stream",
          "name": "stdout",
          "text": [
            "Feature Importances: [0.0167399  0.0167399  0.40268917 0.56383102]\n"
          ]
        }
      ]
    },
    {
      "cell_type": "code",
      "source": [
        "model = DecisionTreeClassifier(criterion='entropy')\n",
        "model.fit(X_train, y_train)\n",
        "print(\"Accuracy:\", accuracy_score(y_test, model.predict(X_test)))\n"
      ],
      "metadata": {
        "colab": {
          "base_uri": "https://localhost:8080/"
        },
        "id": "qbXDz7gIwdPh",
        "outputId": "c27fb7c3-4351-493b-d279-11898f1e7aae"
      },
      "execution_count": 4,
      "outputs": [
        {
          "output_type": "stream",
          "name": "stdout",
          "text": [
            "Accuracy: 0.9\n"
          ]
        }
      ]
    },
    {
      "cell_type": "code",
      "source": [
        "from sklearn.datasets import fetch_california_housing\n",
        "from sklearn.tree import DecisionTreeRegressor\n",
        "from sklearn.metrics import mean_squared_error\n",
        "\n",
        "data = fetch_california_housing()\n",
        "X_train, X_test, y_train, y_test = train_test_split(data.data, data.target, test_size=0.2)\n",
        "\n",
        "reg = DecisionTreeRegressor()\n",
        "reg.fit(X_train, y_train)\n",
        "pred = reg.predict(X_test)\n",
        "\n",
        "print(\"MSE:\", mean_squared_error(y_test, pred))\n"
      ],
      "metadata": {
        "colab": {
          "base_uri": "https://localhost:8080/"
        },
        "id": "ScmamezBwgYQ",
        "outputId": "048f90a0-6c57-4e7c-d434-bfcc4f1185d8"
      },
      "execution_count": 5,
      "outputs": [
        {
          "output_type": "stream",
          "name": "stdout",
          "text": [
            "MSE: 0.5477097968744914\n"
          ]
        }
      ]
    },
    {
      "cell_type": "code",
      "source": [
        "from sklearn.tree import export_graphviz\n",
        "import graphviz\n",
        "\n",
        "dot_data = export_graphviz(model, out_file=None,\n",
        "                           feature_names=iris.feature_names,\n",
        "                           class_names=iris.target_names,\n",
        "                           filled=True, rounded=True)\n",
        "graph = graphviz.Source(dot_data)\n",
        "graph.render(\"iris_tree\", view=True)\n"
      ],
      "metadata": {
        "colab": {
          "base_uri": "https://localhost:8080/",
          "height": 36
        },
        "id": "tTOgNSD_wiZT",
        "outputId": "b70f4223-bed3-4534-cfe8-74a93993e49c"
      },
      "execution_count": 6,
      "outputs": [
        {
          "output_type": "execute_result",
          "data": {
            "text/plain": [
              "'iris_tree.pdf'"
            ],
            "application/vnd.google.colaboratory.intrinsic+json": {
              "type": "string"
            }
          },
          "metadata": {},
          "execution_count": 6
        }
      ]
    },
    {
      "cell_type": "code",
      "source": [
        "short_tree = DecisionTreeClassifier(max_depth=3)\n",
        "short_tree.fit(X_train, y_train)\n",
        "\n",
        "print(\"Full Tree Accuracy:\", accuracy_score(y_test, model.predict(X_test)))\n",
        "print(\"Depth-3 Accuracy:\", accuracy_score(y_test, short_tree.predict(X_test)))\n"
      ],
      "metadata": {
        "id": "-pKQIU75wncM"
      },
      "execution_count": null,
      "outputs": []
    },
    {
      "cell_type": "code",
      "source": [
        "custom_tree = DecisionTreeClassifier(min_samples_split=5)\n",
        "custom_tree.fit(X_train, y_train)\n",
        "\n",
        "print(\"Default Accuracy:\", accuracy_score(y_test, model.predict(X_test)))\n",
        "print(\"min_samples_split=5 Accuracy:\", accuracy_score(y_test, custom_tree.predict(X_test)))\n"
      ],
      "metadata": {
        "id": "IoZEL2S8wvBq"
      },
      "execution_count": null,
      "outputs": []
    },
    {
      "cell_type": "code",
      "source": [
        "from sklearn.preprocessing import StandardScaler\n",
        "from sklearn.pipeline import make_pipeline\n",
        "\n",
        "pipe = make_pipeline(StandardScaler(), DecisionTreeClassifier())\n",
        "pipe.fit(X_train, y_train)\n",
        "\n",
        "print(\"Scaled Accuracy:\", accuracy_score(y_test, pipe.predict(X_test)))\n",
        "print(\"Unscaled Accuracy:\", accuracy_score(y_test, model.predict(X_test)))\n"
      ],
      "metadata": {
        "id": "FBR5LQYfww1K"
      },
      "execution_count": 9,
      "outputs": []
    },
    {
      "cell_type": "code",
      "source": [
        "from sklearn.multiclass import OneVsRestClassifier\n",
        "\n",
        "ovr_model = OneVsRestClassifier(DecisionTreeClassifier())\n",
        "ovr_model.fit(X_train, y_train)\n",
        "\n",
        "print(\"OvR Accuracy:\", accuracy_score(y_test, ovr_model.predict(X_test)))"
      ],
      "metadata": {
        "id": "U2mqYkRow3vC"
      },
      "execution_count": null,
      "outputs": []
    },
    {
      "cell_type": "code",
      "source": [
        "import pandas as pd\n",
        "\n",
        "importance_df = pd.DataFrame({\n",
        "    'Feature': iris.feature_names,\n",
        "    'Importance': model.feature_importances_\n",
        "}).sort_values(by='Importance', ascending=False)\n",
        "\n",
        "print(importance_df)\n"
      ],
      "metadata": {
        "colab": {
          "base_uri": "https://localhost:8080/"
        },
        "id": "IKxCCBLjw7aS",
        "outputId": "0759107f-e7fc-4b28-912d-68e4ac9ce6f9"
      },
      "execution_count": 11,
      "outputs": [
        {
          "output_type": "stream",
          "name": "stdout",
          "text": [
            "             Feature  Importance\n",
            "3   petal width (cm)    0.661784\n",
            "2  petal length (cm)    0.323675\n",
            "0  sepal length (cm)    0.014542\n",
            "1   sepal width (cm)    0.000000\n"
          ]
        }
      ]
    },
    {
      "cell_type": "code",
      "source": [
        "limited_reg = DecisionTreeRegressor(max_depth=5)\n",
        "limited_reg.fit(X_train, y_train)\n",
        "\n",
        "print(\"Unrestricted MSE:\", mean_squared_error(y_test, reg.predict(X_test)))\n",
        "print(\"max_depth=5 MSE:\", mean_squared_error(y_test, limited_reg.predict(X_test)))\n"
      ],
      "metadata": {
        "colab": {
          "base_uri": "https://localhost:8080/"
        },
        "id": "JNmGA71pxD8K",
        "outputId": "72c32743-c0e9-44d2-a613-da97e372e041"
      },
      "execution_count": 12,
      "outputs": [
        {
          "output_type": "stream",
          "name": "stdout",
          "text": [
            "Unrestricted MSE: 0.5477097968744914\n",
            "max_depth=5 MSE: 0.5398376312027791\n"
          ]
        }
      ]
    },
    {
      "cell_type": "code",
      "source": [
        "path = model.cost_complexity_pruning_path(X_train, y_train)\n",
        "ccp_alphas = path.ccp_alphas\n",
        "\n",
        "accuracies = []\n",
        "for alpha in ccp_alphas:\n",
        "    pruned_tree = DecisionTreeClassifier(ccp_alpha=alpha)\n",
        "    pruned_tree.fit(X_train, y_train)\n",
        "    accuracies.append(accuracy_score(y_test, pruned_tree.predict(X_test)))\n",
        "\n",
        "print(\"CCP Alpha Range:\", ccp_alphas)\n",
        "print(\"Accuracies:\", accuracies)"
      ],
      "metadata": {
        "id": "FZcEe5zxxHxk"
      },
      "execution_count": 17,
      "outputs": []
    },
    {
      "cell_type": "code",
      "source": [
        "from sklearn.metrics import classification_report\n",
        "\n",
        "print(classification_report(y_test, model.predict(X_test), target_names=iris.target_names))\n"
      ],
      "metadata": {
        "id": "GGCjylYsxMQm"
      },
      "execution_count": 17,
      "outputs": []
    },
    {
      "cell_type": "code",
      "source": [
        "import seaborn as sns\n",
        "import matplotlib.pyplot as plt\n",
        "from sklearn.metrics import confusion_matrix\n",
        "\n",
        "cm = confusion_matrix(y_test, model.predict(X_test))\n",
        "sns.heatmap(cm, annot=True, fmt='d', cmap='Blues', xticklabels=iris.target_names, yticklabels=iris.target_names)\n",
        "plt.xlabel('Predicted')\n",
        "plt.ylabel('Actual')\n",
        "plt.title('Confusion Matrix')\n",
        "plt.show()\n"
      ],
      "metadata": {
        "id": "6_W8-1JmxNLL"
      },
      "execution_count": 17,
      "outputs": []
    },
    {
      "cell_type": "code",
      "source": [
        "from sklearn.model_selection import GridSearchCV\n",
        "\n",
        "params = {'max_depth': [3, 5, 10, None], 'min_samples_split': [2, 5, 10]}\n",
        "grid = GridSearchCV(DecisionTreeClassifier(), param_grid=params, cv=5)\n",
        "grid.fit(X_train, y_train)\n",
        "\n",
        "print(\"Best Params:\", grid.best_params_)\n",
        "print(\"Best Score:\", grid.best_score_)"
      ],
      "metadata": {
        "id": "rLbiK3pRxRHe"
      },
      "execution_count": null,
      "outputs": []
    }
  ]
}